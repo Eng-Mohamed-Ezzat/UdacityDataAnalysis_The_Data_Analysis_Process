{
 "cells": [
  {
   "cell_type": "code",
   "execution_count": 1,
   "id": "continent-burden",
   "metadata": {},
   "outputs": [
    {
     "data": {
      "text/html": [
       "<div>\n",
       "<style scoped>\n",
       "    .dataframe tbody tr th:only-of-type {\n",
       "        vertical-align: middle;\n",
       "    }\n",
       "\n",
       "    .dataframe tbody tr th {\n",
       "        vertical-align: top;\n",
       "    }\n",
       "\n",
       "    .dataframe thead th {\n",
       "        text-align: right;\n",
       "    }\n",
       "</style>\n",
       "<table border=\"1\" class=\"dataframe\">\n",
       "  <thead>\n",
       "    <tr style=\"text-align: right;\">\n",
       "      <th></th>\n",
       "      <th>30572</th>\n",
       "      <th>Alex</th>\n",
       "      <th>1.0</th>\n",
       "      <th>0.84</th>\n",
       "      <th>92.0</th>\n",
       "      <th>89.0</th>\n",
       "      <th>94.0</th>\n",
       "      <th>92.0.1</th>\n",
       "      <th>91.0</th>\n",
       "      <th>2020-01-10 14:00</th>\n",
       "    </tr>\n",
       "  </thead>\n",
       "  <tbody>\n",
       "    <tr>\n",
       "      <th>0</th>\n",
       "      <td>39203</td>\n",
       "      <td>Avery</td>\n",
       "      <td>0.84</td>\n",
       "      <td>0.74</td>\n",
       "      <td>68.0</td>\n",
       "      <td>70.0</td>\n",
       "      <td>84.0</td>\n",
       "      <td>90.0</td>\n",
       "      <td>82.0</td>\n",
       "      <td>2020-01-20 14:00</td>\n",
       "    </tr>\n",
       "    <tr>\n",
       "      <th>1</th>\n",
       "      <td>39203</td>\n",
       "      <td>Avery</td>\n",
       "      <td>0.84</td>\n",
       "      <td>0.74</td>\n",
       "      <td>68.0</td>\n",
       "      <td>70.0</td>\n",
       "      <td>84.0</td>\n",
       "      <td>90.0</td>\n",
       "      <td>82.0</td>\n",
       "      <td>2020-01-20 14:00</td>\n",
       "    </tr>\n",
       "    <tr>\n",
       "      <th>2</th>\n",
       "      <td>28592</td>\n",
       "      <td>Kris</td>\n",
       "      <td>0.96</td>\n",
       "      <td>NaN</td>\n",
       "      <td>82.0</td>\n",
       "      <td>94.0</td>\n",
       "      <td>90.0</td>\n",
       "      <td>81.0</td>\n",
       "      <td>84.0</td>\n",
       "      <td>2020-01-22 11:00</td>\n",
       "    </tr>\n",
       "    <tr>\n",
       "      <th>3</th>\n",
       "      <td>27492</td>\n",
       "      <td>Rick</td>\n",
       "      <td>0.32</td>\n",
       "      <td>NaN</td>\n",
       "      <td>98.0</td>\n",
       "      <td>100.0</td>\n",
       "      <td>73.0</td>\n",
       "      <td>82.0</td>\n",
       "      <td>88.0</td>\n",
       "      <td>2020-01-23 13:00</td>\n",
       "    </tr>\n",
       "  </tbody>\n",
       "</table>\n",
       "</div>"
      ],
      "text/plain": [
       "   30572   Alex   1.0  0.84  92.0   89.0  94.0  92.0.1  91.0  2020-01-10 14:00\n",
       "0  39203  Avery  0.84  0.74  68.0   70.0  84.0    90.0  82.0  2020-01-20 14:00\n",
       "1  39203  Avery  0.84  0.74  68.0   70.0  84.0    90.0  82.0  2020-01-20 14:00\n",
       "2  28592   Kris  0.96   NaN  82.0   94.0  90.0    81.0  84.0  2020-01-22 11:00\n",
       "3  27492   Rick  0.32   NaN  98.0  100.0  73.0    82.0  88.0  2020-01-23 13:00"
      ]
     },
     "execution_count": 1,
     "metadata": {},
     "output_type": "execute_result"
    }
   ],
   "source": [
    "import pandas as pd\n",
    "df = pd.read_csv('students.csv', header=2)\n",
    "df.head()"
   ]
  },
  {
   "cell_type": "code",
   "execution_count": 2,
   "id": "increased-sensitivity",
   "metadata": {},
   "outputs": [
    {
     "data": {
      "text/html": [
       "<div>\n",
       "<style scoped>\n",
       "    .dataframe tbody tr th:only-of-type {\n",
       "        vertical-align: middle;\n",
       "    }\n",
       "\n",
       "    .dataframe tbody tr th {\n",
       "        vertical-align: top;\n",
       "    }\n",
       "\n",
       "    .dataframe thead th {\n",
       "        text-align: right;\n",
       "    }\n",
       "</style>\n",
       "<table border=\"1\" class=\"dataframe\">\n",
       "  <thead>\n",
       "    <tr style=\"text-align: right;\">\n",
       "      <th></th>\n",
       "      <th>ID</th>\n",
       "      <th>Name</th>\n",
       "      <th>Attendance</th>\n",
       "      <th>HW</th>\n",
       "      <th>Test1</th>\n",
       "      <th>Project1</th>\n",
       "      <th>Test2</th>\n",
       "      <th>Project2</th>\n",
       "      <th>Final</th>\n",
       "      <th>datenow</th>\n",
       "    </tr>\n",
       "  </thead>\n",
       "  <tbody>\n",
       "    <tr>\n",
       "      <th>0</th>\n",
       "      <td>27604</td>\n",
       "      <td>Joe</td>\n",
       "      <td>0.96</td>\n",
       "      <td>0.97</td>\n",
       "      <td>87.0</td>\n",
       "      <td>98.0</td>\n",
       "      <td>92.0</td>\n",
       "      <td>93.0</td>\n",
       "      <td>95.0</td>\n",
       "      <td>2020-01-24 12:00</td>\n",
       "    </tr>\n",
       "    <tr>\n",
       "      <th>1</th>\n",
       "      <td>30572</td>\n",
       "      <td>Alex</td>\n",
       "      <td>1.00</td>\n",
       "      <td>0.84</td>\n",
       "      <td>92.0</td>\n",
       "      <td>89.0</td>\n",
       "      <td>94.0</td>\n",
       "      <td>92.0</td>\n",
       "      <td>91.0</td>\n",
       "      <td>2020-01-10 14:00</td>\n",
       "    </tr>\n",
       "    <tr>\n",
       "      <th>2</th>\n",
       "      <td>39203</td>\n",
       "      <td>Avery</td>\n",
       "      <td>0.84</td>\n",
       "      <td>0.74</td>\n",
       "      <td>68.0</td>\n",
       "      <td>70.0</td>\n",
       "      <td>84.0</td>\n",
       "      <td>90.0</td>\n",
       "      <td>82.0</td>\n",
       "      <td>2020-01-20 14:00</td>\n",
       "    </tr>\n",
       "    <tr>\n",
       "      <th>3</th>\n",
       "      <td>39203</td>\n",
       "      <td>Avery</td>\n",
       "      <td>0.84</td>\n",
       "      <td>0.74</td>\n",
       "      <td>68.0</td>\n",
       "      <td>70.0</td>\n",
       "      <td>84.0</td>\n",
       "      <td>90.0</td>\n",
       "      <td>82.0</td>\n",
       "      <td>2020-01-20 14:00</td>\n",
       "    </tr>\n",
       "    <tr>\n",
       "      <th>4</th>\n",
       "      <td>28592</td>\n",
       "      <td>Kris</td>\n",
       "      <td>0.96</td>\n",
       "      <td>NaN</td>\n",
       "      <td>82.0</td>\n",
       "      <td>94.0</td>\n",
       "      <td>90.0</td>\n",
       "      <td>81.0</td>\n",
       "      <td>84.0</td>\n",
       "      <td>2020-01-22 11:00</td>\n",
       "    </tr>\n",
       "  </tbody>\n",
       "</table>\n",
       "</div>"
      ],
      "text/plain": [
       "      ID   Name  Attendance    HW  Test1  Project1  Test2  Project2  Final  \\\n",
       "0  27604    Joe        0.96  0.97   87.0      98.0   92.0      93.0   95.0   \n",
       "1  30572   Alex        1.00  0.84   92.0      89.0   94.0      92.0   91.0   \n",
       "2  39203  Avery        0.84  0.74   68.0      70.0   84.0      90.0   82.0   \n",
       "3  39203  Avery        0.84  0.74   68.0      70.0   84.0      90.0   82.0   \n",
       "4  28592   Kris        0.96   NaN   82.0      94.0   90.0      81.0   84.0   \n",
       "\n",
       "            datenow  \n",
       "0  2020-01-24 12:00  \n",
       "1  2020-01-10 14:00  \n",
       "2  2020-01-20 14:00  \n",
       "3  2020-01-20 14:00  \n",
       "4  2020-01-22 11:00  "
      ]
     },
     "execution_count": 2,
     "metadata": {},
     "output_type": "execute_result"
    }
   ],
   "source": [
    "df = pd.read_csv('students.csv')\n",
    "df.head()"
   ]
  },
  {
   "cell_type": "code",
   "execution_count": 3,
   "id": "bound-luther",
   "metadata": {},
   "outputs": [
    {
     "data": {
      "text/html": [
       "<div>\n",
       "<style scoped>\n",
       "    .dataframe tbody tr th:only-of-type {\n",
       "        vertical-align: middle;\n",
       "    }\n",
       "\n",
       "    .dataframe tbody tr th {\n",
       "        vertical-align: top;\n",
       "    }\n",
       "\n",
       "    .dataframe thead th {\n",
       "        text-align: right;\n",
       "    }\n",
       "</style>\n",
       "<table border=\"1\" class=\"dataframe\">\n",
       "  <thead>\n",
       "    <tr style=\"text-align: right;\">\n",
       "      <th></th>\n",
       "      <th>0</th>\n",
       "      <th>1</th>\n",
       "      <th>2</th>\n",
       "      <th>3</th>\n",
       "      <th>4</th>\n",
       "      <th>5</th>\n",
       "      <th>6</th>\n",
       "      <th>7</th>\n",
       "      <th>8</th>\n",
       "      <th>9</th>\n",
       "    </tr>\n",
       "  </thead>\n",
       "  <tbody>\n",
       "    <tr>\n",
       "      <th>0</th>\n",
       "      <td>ID</td>\n",
       "      <td>Name</td>\n",
       "      <td>Attendance</td>\n",
       "      <td>HW</td>\n",
       "      <td>Test1</td>\n",
       "      <td>Project1</td>\n",
       "      <td>Test2</td>\n",
       "      <td>Project2</td>\n",
       "      <td>Final</td>\n",
       "      <td>datenow</td>\n",
       "    </tr>\n",
       "    <tr>\n",
       "      <th>1</th>\n",
       "      <td>27604</td>\n",
       "      <td>Joe</td>\n",
       "      <td>0.96</td>\n",
       "      <td>0.97</td>\n",
       "      <td>87.0</td>\n",
       "      <td>98.0</td>\n",
       "      <td>92.0</td>\n",
       "      <td>93.0</td>\n",
       "      <td>95.0</td>\n",
       "      <td>2020-01-24 12:00</td>\n",
       "    </tr>\n",
       "    <tr>\n",
       "      <th>2</th>\n",
       "      <td>30572</td>\n",
       "      <td>Alex</td>\n",
       "      <td>1.0</td>\n",
       "      <td>0.84</td>\n",
       "      <td>92.0</td>\n",
       "      <td>89.0</td>\n",
       "      <td>94.0</td>\n",
       "      <td>92.0</td>\n",
       "      <td>91.0</td>\n",
       "      <td>2020-01-10 14:00</td>\n",
       "    </tr>\n",
       "    <tr>\n",
       "      <th>3</th>\n",
       "      <td>39203</td>\n",
       "      <td>Avery</td>\n",
       "      <td>0.84</td>\n",
       "      <td>0.74</td>\n",
       "      <td>68.0</td>\n",
       "      <td>70.0</td>\n",
       "      <td>84.0</td>\n",
       "      <td>90.0</td>\n",
       "      <td>82.0</td>\n",
       "      <td>2020-01-20 14:00</td>\n",
       "    </tr>\n",
       "    <tr>\n",
       "      <th>4</th>\n",
       "      <td>39203</td>\n",
       "      <td>Avery</td>\n",
       "      <td>0.84</td>\n",
       "      <td>0.74</td>\n",
       "      <td>68.0</td>\n",
       "      <td>70.0</td>\n",
       "      <td>84.0</td>\n",
       "      <td>90.0</td>\n",
       "      <td>82.0</td>\n",
       "      <td>2020-01-20 14:00</td>\n",
       "    </tr>\n",
       "  </tbody>\n",
       "</table>\n",
       "</div>"
      ],
      "text/plain": [
       "       0      1           2     3      4         5      6         7      8  \\\n",
       "0     ID   Name  Attendance    HW  Test1  Project1  Test2  Project2  Final   \n",
       "1  27604    Joe        0.96  0.97   87.0      98.0   92.0      93.0   95.0   \n",
       "2  30572   Alex         1.0  0.84   92.0      89.0   94.0      92.0   91.0   \n",
       "3  39203  Avery        0.84  0.74   68.0      70.0   84.0      90.0   82.0   \n",
       "4  39203  Avery        0.84  0.74   68.0      70.0   84.0      90.0   82.0   \n",
       "\n",
       "                  9  \n",
       "0           datenow  \n",
       "1  2020-01-24 12:00  \n",
       "2  2020-01-10 14:00  \n",
       "3  2020-01-20 14:00  \n",
       "4  2020-01-20 14:00  "
      ]
     },
     "execution_count": 3,
     "metadata": {},
     "output_type": "execute_result"
    }
   ],
   "source": [
    "df = pd.read_csv('students.csv', header=None)\n",
    "df.head()\n"
   ]
  },
  {
   "cell_type": "code",
   "execution_count": 4,
   "id": "korean-canon",
   "metadata": {},
   "outputs": [
    {
     "data": {
      "text/html": [
       "<div>\n",
       "<style scoped>\n",
       "    .dataframe tbody tr th:only-of-type {\n",
       "        vertical-align: middle;\n",
       "    }\n",
       "\n",
       "    .dataframe tbody tr th {\n",
       "        vertical-align: top;\n",
       "    }\n",
       "\n",
       "    .dataframe thead th {\n",
       "        text-align: right;\n",
       "    }\n",
       "</style>\n",
       "<table border=\"1\" class=\"dataframe\">\n",
       "  <thead>\n",
       "    <tr style=\"text-align: right;\">\n",
       "      <th></th>\n",
       "      <th>uID</th>\n",
       "      <th>Name</th>\n",
       "      <th>Attendance</th>\n",
       "      <th>HW</th>\n",
       "      <th>Test1</th>\n",
       "      <th>Project1</th>\n",
       "      <th>Test2</th>\n",
       "      <th>Project2</th>\n",
       "      <th>Final</th>\n",
       "    </tr>\n",
       "  </thead>\n",
       "  <tbody>\n",
       "    <tr>\n",
       "      <th>ID</th>\n",
       "      <td>Name</td>\n",
       "      <td>Attendance</td>\n",
       "      <td>HW</td>\n",
       "      <td>Test1</td>\n",
       "      <td>Project1</td>\n",
       "      <td>Test2</td>\n",
       "      <td>Project2</td>\n",
       "      <td>Final</td>\n",
       "      <td>datenow</td>\n",
       "    </tr>\n",
       "    <tr>\n",
       "      <th>27604</th>\n",
       "      <td>Joe</td>\n",
       "      <td>0.96</td>\n",
       "      <td>0.97</td>\n",
       "      <td>87.0</td>\n",
       "      <td>98.0</td>\n",
       "      <td>92.0</td>\n",
       "      <td>93.0</td>\n",
       "      <td>95.0</td>\n",
       "      <td>2020-01-24 12:00</td>\n",
       "    </tr>\n",
       "    <tr>\n",
       "      <th>30572</th>\n",
       "      <td>Alex</td>\n",
       "      <td>1.0</td>\n",
       "      <td>0.84</td>\n",
       "      <td>92.0</td>\n",
       "      <td>89.0</td>\n",
       "      <td>94.0</td>\n",
       "      <td>92.0</td>\n",
       "      <td>91.0</td>\n",
       "      <td>2020-01-10 14:00</td>\n",
       "    </tr>\n",
       "    <tr>\n",
       "      <th>39203</th>\n",
       "      <td>Avery</td>\n",
       "      <td>0.84</td>\n",
       "      <td>0.74</td>\n",
       "      <td>68.0</td>\n",
       "      <td>70.0</td>\n",
       "      <td>84.0</td>\n",
       "      <td>90.0</td>\n",
       "      <td>82.0</td>\n",
       "      <td>2020-01-20 14:00</td>\n",
       "    </tr>\n",
       "    <tr>\n",
       "      <th>39203</th>\n",
       "      <td>Avery</td>\n",
       "      <td>0.84</td>\n",
       "      <td>0.74</td>\n",
       "      <td>68.0</td>\n",
       "      <td>70.0</td>\n",
       "      <td>84.0</td>\n",
       "      <td>90.0</td>\n",
       "      <td>82.0</td>\n",
       "      <td>2020-01-20 14:00</td>\n",
       "    </tr>\n",
       "  </tbody>\n",
       "</table>\n",
       "</div>"
      ],
      "text/plain": [
       "         uID        Name Attendance     HW     Test1 Project1     Test2  \\\n",
       "ID      Name  Attendance         HW  Test1  Project1    Test2  Project2   \n",
       "27604    Joe        0.96       0.97   87.0      98.0     92.0      93.0   \n",
       "30572   Alex         1.0       0.84   92.0      89.0     94.0      92.0   \n",
       "39203  Avery        0.84       0.74   68.0      70.0     84.0      90.0   \n",
       "39203  Avery        0.84       0.74   68.0      70.0     84.0      90.0   \n",
       "\n",
       "      Project2             Final  \n",
       "ID       Final           datenow  \n",
       "27604     95.0  2020-01-24 12:00  \n",
       "30572     91.0  2020-01-10 14:00  \n",
       "39203     82.0  2020-01-20 14:00  \n",
       "39203     82.0  2020-01-20 14:00  "
      ]
     },
     "execution_count": 4,
     "metadata": {},
     "output_type": "execute_result"
    }
   ],
   "source": [
    "lables = ['uID','Name','Attendance','HW','Test1','Project1','Test2','Project2','Final']\n",
    "df = pd.read_csv('students.csv', names=lables,)\n",
    "df.head()"
   ]
  },
  {
   "cell_type": "code",
   "execution_count": 5,
   "id": "romantic-working",
   "metadata": {},
   "outputs": [
    {
     "data": {
      "text/plain": [
       "uID           object\n",
       "Name          object\n",
       "Attendance    object\n",
       "HW            object\n",
       "Test1         object\n",
       "Project1      object\n",
       "Test2         object\n",
       "Project2      object\n",
       "Final         object\n",
       "dtype: object"
      ]
     },
     "execution_count": 5,
     "metadata": {},
     "output_type": "execute_result"
    }
   ],
   "source": [
    "df.dtypes"
   ]
  },
  {
   "cell_type": "code",
   "execution_count": 6,
   "id": "catholic-guitar",
   "metadata": {},
   "outputs": [
    {
     "data": {
      "text/plain": [
       "str"
      ]
     },
     "execution_count": 6,
     "metadata": {},
     "output_type": "execute_result"
    }
   ],
   "source": [
    "type(df['uID'][0])"
   ]
  },
  {
   "cell_type": "code",
   "execution_count": 7,
   "id": "suited-suspension",
   "metadata": {},
   "outputs": [
    {
     "name": "stdout",
     "output_type": "stream",
     "text": [
      "<class 'pandas.core.frame.DataFrame'>\n",
      "Index: 7 entries, ID to 27492\n",
      "Data columns (total 9 columns):\n",
      " #   Column      Non-Null Count  Dtype \n",
      "---  ------      --------------  ----- \n",
      " 0   uID         7 non-null      object\n",
      " 1   Name        7 non-null      object\n",
      " 2   Attendance  5 non-null      object\n",
      " 3   HW          7 non-null      object\n",
      " 4   Test1       7 non-null      object\n",
      " 5   Project1    7 non-null      object\n",
      " 6   Test2       7 non-null      object\n",
      " 7   Project2    7 non-null      object\n",
      " 8   Final       7 non-null      object\n",
      "dtypes: object(9)\n",
      "memory usage: 560.0+ bytes\n"
     ]
    }
   ],
   "source": [
    "df.info()"
   ]
  },
  {
   "cell_type": "code",
   "execution_count": 8,
   "id": "peripheral-brake",
   "metadata": {},
   "outputs": [
    {
     "data": {
      "text/plain": [
       "uID           6\n",
       "Name          5\n",
       "Attendance    4\n",
       "HW            6\n",
       "Test1         6\n",
       "Project1      6\n",
       "Test2         6\n",
       "Project2      6\n",
       "Final         6\n",
       "dtype: int64"
      ]
     },
     "execution_count": 8,
     "metadata": {},
     "output_type": "execute_result"
    }
   ],
   "source": [
    "df.nunique()"
   ]
  },
  {
   "cell_type": "code",
   "execution_count": 9,
   "id": "organizational-petersburg",
   "metadata": {},
   "outputs": [
    {
     "data": {
      "text/html": [
       "<div>\n",
       "<style scoped>\n",
       "    .dataframe tbody tr th:only-of-type {\n",
       "        vertical-align: middle;\n",
       "    }\n",
       "\n",
       "    .dataframe tbody tr th {\n",
       "        vertical-align: top;\n",
       "    }\n",
       "\n",
       "    .dataframe thead th {\n",
       "        text-align: right;\n",
       "    }\n",
       "</style>\n",
       "<table border=\"1\" class=\"dataframe\">\n",
       "  <thead>\n",
       "    <tr style=\"text-align: right;\">\n",
       "      <th></th>\n",
       "      <th>uID</th>\n",
       "      <th>Name</th>\n",
       "      <th>Attendance</th>\n",
       "      <th>HW</th>\n",
       "      <th>Test1</th>\n",
       "      <th>Project1</th>\n",
       "      <th>Test2</th>\n",
       "      <th>Project2</th>\n",
       "      <th>Final</th>\n",
       "    </tr>\n",
       "  </thead>\n",
       "  <tbody>\n",
       "    <tr>\n",
       "      <th>count</th>\n",
       "      <td>7</td>\n",
       "      <td>7</td>\n",
       "      <td>5</td>\n",
       "      <td>7</td>\n",
       "      <td>7</td>\n",
       "      <td>7</td>\n",
       "      <td>7</td>\n",
       "      <td>7</td>\n",
       "      <td>7</td>\n",
       "    </tr>\n",
       "    <tr>\n",
       "      <th>unique</th>\n",
       "      <td>6</td>\n",
       "      <td>5</td>\n",
       "      <td>4</td>\n",
       "      <td>6</td>\n",
       "      <td>6</td>\n",
       "      <td>6</td>\n",
       "      <td>6</td>\n",
       "      <td>6</td>\n",
       "      <td>6</td>\n",
       "    </tr>\n",
       "    <tr>\n",
       "      <th>top</th>\n",
       "      <td>Avery</td>\n",
       "      <td>0.84</td>\n",
       "      <td>0.74</td>\n",
       "      <td>68.0</td>\n",
       "      <td>70.0</td>\n",
       "      <td>84.0</td>\n",
       "      <td>90.0</td>\n",
       "      <td>82.0</td>\n",
       "      <td>2020-01-20 14:00</td>\n",
       "    </tr>\n",
       "    <tr>\n",
       "      <th>freq</th>\n",
       "      <td>2</td>\n",
       "      <td>2</td>\n",
       "      <td>2</td>\n",
       "      <td>2</td>\n",
       "      <td>2</td>\n",
       "      <td>2</td>\n",
       "      <td>2</td>\n",
       "      <td>2</td>\n",
       "      <td>2</td>\n",
       "    </tr>\n",
       "  </tbody>\n",
       "</table>\n",
       "</div>"
      ],
      "text/plain": [
       "          uID  Name Attendance    HW Test1 Project1 Test2 Project2  \\\n",
       "count       7     7          5     7     7        7     7        7   \n",
       "unique      6     5          4     6     6        6     6        6   \n",
       "top     Avery  0.84       0.74  68.0  70.0     84.0  90.0     82.0   \n",
       "freq        2     2          2     2     2        2     2        2   \n",
       "\n",
       "                   Final  \n",
       "count                  7  \n",
       "unique                 6  \n",
       "top     2020-01-20 14:00  \n",
       "freq                   2  "
      ]
     },
     "execution_count": 9,
     "metadata": {},
     "output_type": "execute_result"
    }
   ],
   "source": [
    "df.describe()"
   ]
  },
  {
   "cell_type": "code",
   "execution_count": 10,
   "id": "metropolitan-sampling",
   "metadata": {},
   "outputs": [
    {
     "data": {
      "text/plain": [
       "27492    Rick\n",
       "Name: uID, dtype: object"
      ]
     },
     "execution_count": 10,
     "metadata": {},
     "output_type": "execute_result"
    }
   ],
   "source": [
    "df.tail(1)['uID']"
   ]
  },
  {
   "cell_type": "code",
   "execution_count": 11,
   "id": "sustainable-behavior",
   "metadata": {},
   "outputs": [
    {
     "data": {
      "text/html": [
       "<div>\n",
       "<style scoped>\n",
       "    .dataframe tbody tr th:only-of-type {\n",
       "        vertical-align: middle;\n",
       "    }\n",
       "\n",
       "    .dataframe tbody tr th {\n",
       "        vertical-align: top;\n",
       "    }\n",
       "\n",
       "    .dataframe thead th {\n",
       "        text-align: right;\n",
       "    }\n",
       "</style>\n",
       "<table border=\"1\" class=\"dataframe\">\n",
       "  <thead>\n",
       "    <tr style=\"text-align: right;\">\n",
       "      <th></th>\n",
       "      <th>uID</th>\n",
       "      <th>Name</th>\n",
       "      <th>Attendance</th>\n",
       "    </tr>\n",
       "  </thead>\n",
       "  <tbody>\n",
       "    <tr>\n",
       "      <th>ID</th>\n",
       "      <td>Name</td>\n",
       "      <td>Attendance</td>\n",
       "      <td>HW</td>\n",
       "    </tr>\n",
       "    <tr>\n",
       "      <th>27604</th>\n",
       "      <td>Joe</td>\n",
       "      <td>0.96</td>\n",
       "      <td>0.97</td>\n",
       "    </tr>\n",
       "    <tr>\n",
       "      <th>30572</th>\n",
       "      <td>Alex</td>\n",
       "      <td>1.0</td>\n",
       "      <td>0.84</td>\n",
       "    </tr>\n",
       "    <tr>\n",
       "      <th>39203</th>\n",
       "      <td>Avery</td>\n",
       "      <td>0.84</td>\n",
       "      <td>0.74</td>\n",
       "    </tr>\n",
       "    <tr>\n",
       "      <th>39203</th>\n",
       "      <td>Avery</td>\n",
       "      <td>0.84</td>\n",
       "      <td>0.74</td>\n",
       "    </tr>\n",
       "    <tr>\n",
       "      <th>28592</th>\n",
       "      <td>Kris</td>\n",
       "      <td>0.96</td>\n",
       "      <td>NaN</td>\n",
       "    </tr>\n",
       "    <tr>\n",
       "      <th>27492</th>\n",
       "      <td>Rick</td>\n",
       "      <td>0.32</td>\n",
       "      <td>NaN</td>\n",
       "    </tr>\n",
       "  </tbody>\n",
       "</table>\n",
       "</div>"
      ],
      "text/plain": [
       "         uID        Name Attendance\n",
       "ID      Name  Attendance         HW\n",
       "27604    Joe        0.96       0.97\n",
       "30572   Alex         1.0       0.84\n",
       "39203  Avery        0.84       0.74\n",
       "39203  Avery        0.84       0.74\n",
       "28592   Kris        0.96        NaN\n",
       "27492   Rick        0.32        NaN"
      ]
     },
     "execution_count": 11,
     "metadata": {},
     "output_type": "execute_result"
    }
   ],
   "source": [
    "df_means = df.loc[:,'uID':'Attendance']\n",
    "df_means.head(90)"
   ]
  },
  {
   "cell_type": "code",
   "execution_count": 12,
   "id": "streaming-person",
   "metadata": {},
   "outputs": [
    {
     "data": {
      "text/html": [
       "<div>\n",
       "<style scoped>\n",
       "    .dataframe tbody tr th:only-of-type {\n",
       "        vertical-align: middle;\n",
       "    }\n",
       "\n",
       "    .dataframe tbody tr th {\n",
       "        vertical-align: top;\n",
       "    }\n",
       "\n",
       "    .dataframe thead th {\n",
       "        text-align: right;\n",
       "    }\n",
       "</style>\n",
       "<table border=\"1\" class=\"dataframe\">\n",
       "  <thead>\n",
       "    <tr style=\"text-align: right;\">\n",
       "      <th></th>\n",
       "      <th>uID</th>\n",
       "      <th>Name</th>\n",
       "      <th>Attendance</th>\n",
       "    </tr>\n",
       "  </thead>\n",
       "  <tbody>\n",
       "    <tr>\n",
       "      <th>ID</th>\n",
       "      <td>Name</td>\n",
       "      <td>Attendance</td>\n",
       "      <td>HW</td>\n",
       "    </tr>\n",
       "    <tr>\n",
       "      <th>27604</th>\n",
       "      <td>Joe</td>\n",
       "      <td>0.96</td>\n",
       "      <td>0.97</td>\n",
       "    </tr>\n",
       "    <tr>\n",
       "      <th>30572</th>\n",
       "      <td>Alex</td>\n",
       "      <td>1.0</td>\n",
       "      <td>0.84</td>\n",
       "    </tr>\n",
       "    <tr>\n",
       "      <th>39203</th>\n",
       "      <td>Avery</td>\n",
       "      <td>0.84</td>\n",
       "      <td>0.74</td>\n",
       "    </tr>\n",
       "    <tr>\n",
       "      <th>39203</th>\n",
       "      <td>Avery</td>\n",
       "      <td>0.84</td>\n",
       "      <td>0.74</td>\n",
       "    </tr>\n",
       "  </tbody>\n",
       "</table>\n",
       "</div>"
      ],
      "text/plain": [
       "         uID        Name Attendance\n",
       "ID      Name  Attendance         HW\n",
       "27604    Joe        0.96       0.97\n",
       "30572   Alex         1.0       0.84\n",
       "39203  Avery        0.84       0.74\n",
       "39203  Avery        0.84       0.74"
      ]
     },
     "execution_count": 12,
     "metadata": {},
     "output_type": "execute_result"
    }
   ],
   "source": [
    "df_means = df.iloc[:,:3]\n",
    "df_means.head()"
   ]
  },
  {
   "cell_type": "code",
   "execution_count": 13,
   "id": "satisfied-electric",
   "metadata": {},
   "outputs": [
    {
     "name": "stdout",
     "output_type": "stream",
     "text": [
      "<class 'pandas.core.frame.DataFrame'>\n",
      "RangeIndex: 6 entries, 0 to 5\n",
      "Data columns (total 10 columns):\n",
      " #   Column      Non-Null Count  Dtype  \n",
      "---  ------      --------------  -----  \n",
      " 0   ID          6 non-null      int64  \n",
      " 1   Name        6 non-null      object \n",
      " 2   Attendance  6 non-null      float64\n",
      " 3   HW          4 non-null      float64\n",
      " 4   Test1       6 non-null      float64\n",
      " 5   Project1    6 non-null      float64\n",
      " 6   Test2       6 non-null      float64\n",
      " 7   Project2    6 non-null      float64\n",
      " 8   Final       6 non-null      float64\n",
      " 9   datenow     6 non-null      object \n",
      "dtypes: float64(7), int64(1), object(2)\n",
      "memory usage: 608.0+ bytes\n"
     ]
    }
   ],
   "source": [
    "df = pd.read_csv('students.csv')\n",
    "df.info()"
   ]
  },
  {
   "cell_type": "code",
   "execution_count": 14,
   "id": "competent-brunswick",
   "metadata": {},
   "outputs": [
    {
     "data": {
      "text/plain": [
       "0.8225"
      ]
     },
     "execution_count": 14,
     "metadata": {},
     "output_type": "execute_result"
    }
   ],
   "source": [
    "df.HW.mean()"
   ]
  },
  {
   "cell_type": "code",
   "execution_count": 15,
   "id": "trying-overview",
   "metadata": {},
   "outputs": [],
   "source": [
    "df.HW=df.HW.fillna(df.HW.mean())"
   ]
  },
  {
   "cell_type": "code",
   "execution_count": 16,
   "id": "certified-hawaiian",
   "metadata": {},
   "outputs": [
    {
     "name": "stdout",
     "output_type": "stream",
     "text": [
      "<class 'pandas.core.frame.DataFrame'>\n",
      "RangeIndex: 6 entries, 0 to 5\n",
      "Data columns (total 10 columns):\n",
      " #   Column      Non-Null Count  Dtype  \n",
      "---  ------      --------------  -----  \n",
      " 0   ID          6 non-null      int64  \n",
      " 1   Name        6 non-null      object \n",
      " 2   Attendance  6 non-null      float64\n",
      " 3   HW          6 non-null      float64\n",
      " 4   Test1       6 non-null      float64\n",
      " 5   Project1    6 non-null      float64\n",
      " 6   Test2       6 non-null      float64\n",
      " 7   Project2    6 non-null      float64\n",
      " 8   Final       6 non-null      float64\n",
      " 9   datenow     6 non-null      object \n",
      "dtypes: float64(7), int64(1), object(2)\n",
      "memory usage: 608.0+ bytes\n"
     ]
    }
   ],
   "source": [
    "df.info()"
   ]
  },
  {
   "cell_type": "code",
   "execution_count": 17,
   "id": "innocent-morrison",
   "metadata": {},
   "outputs": [],
   "source": [
    "df.HW.fillna(df.HW.mean(), inplace=True)"
   ]
  },
  {
   "cell_type": "code",
   "execution_count": 18,
   "id": "extreme-deviation",
   "metadata": {},
   "outputs": [
    {
     "data": {
      "text/plain": [
       "1"
      ]
     },
     "execution_count": 18,
     "metadata": {},
     "output_type": "execute_result"
    }
   ],
   "source": [
    "df.duplicated().sum()"
   ]
  },
  {
   "cell_type": "code",
   "execution_count": 19,
   "id": "careful-wilderness",
   "metadata": {},
   "outputs": [],
   "source": [
    "df.drop_duplicates(inplace=True)"
   ]
  },
  {
   "cell_type": "code",
   "execution_count": 20,
   "id": "supreme-product",
   "metadata": {},
   "outputs": [
    {
     "data": {
      "text/html": [
       "<div>\n",
       "<style scoped>\n",
       "    .dataframe tbody tr th:only-of-type {\n",
       "        vertical-align: middle;\n",
       "    }\n",
       "\n",
       "    .dataframe tbody tr th {\n",
       "        vertical-align: top;\n",
       "    }\n",
       "\n",
       "    .dataframe thead th {\n",
       "        text-align: right;\n",
       "    }\n",
       "</style>\n",
       "<table border=\"1\" class=\"dataframe\">\n",
       "  <thead>\n",
       "    <tr style=\"text-align: right;\">\n",
       "      <th></th>\n",
       "      <th>ID</th>\n",
       "      <th>Name</th>\n",
       "      <th>Attendance</th>\n",
       "      <th>HW</th>\n",
       "      <th>Test1</th>\n",
       "      <th>Project1</th>\n",
       "      <th>Test2</th>\n",
       "      <th>Project2</th>\n",
       "      <th>Final</th>\n",
       "      <th>datenow</th>\n",
       "    </tr>\n",
       "  </thead>\n",
       "  <tbody>\n",
       "    <tr>\n",
       "      <th>0</th>\n",
       "      <td>27604</td>\n",
       "      <td>Joe</td>\n",
       "      <td>0.96</td>\n",
       "      <td>0.9700</td>\n",
       "      <td>87.0</td>\n",
       "      <td>98.0</td>\n",
       "      <td>92.0</td>\n",
       "      <td>93.0</td>\n",
       "      <td>95.0</td>\n",
       "      <td>2020-01-24 12:00</td>\n",
       "    </tr>\n",
       "    <tr>\n",
       "      <th>1</th>\n",
       "      <td>30572</td>\n",
       "      <td>Alex</td>\n",
       "      <td>1.00</td>\n",
       "      <td>0.8400</td>\n",
       "      <td>92.0</td>\n",
       "      <td>89.0</td>\n",
       "      <td>94.0</td>\n",
       "      <td>92.0</td>\n",
       "      <td>91.0</td>\n",
       "      <td>2020-01-10 14:00</td>\n",
       "    </tr>\n",
       "    <tr>\n",
       "      <th>2</th>\n",
       "      <td>39203</td>\n",
       "      <td>Avery</td>\n",
       "      <td>0.84</td>\n",
       "      <td>0.7400</td>\n",
       "      <td>68.0</td>\n",
       "      <td>70.0</td>\n",
       "      <td>84.0</td>\n",
       "      <td>90.0</td>\n",
       "      <td>82.0</td>\n",
       "      <td>2020-01-20 14:00</td>\n",
       "    </tr>\n",
       "    <tr>\n",
       "      <th>4</th>\n",
       "      <td>28592</td>\n",
       "      <td>Kris</td>\n",
       "      <td>0.96</td>\n",
       "      <td>0.8225</td>\n",
       "      <td>82.0</td>\n",
       "      <td>94.0</td>\n",
       "      <td>90.0</td>\n",
       "      <td>81.0</td>\n",
       "      <td>84.0</td>\n",
       "      <td>2020-01-22 11:00</td>\n",
       "    </tr>\n",
       "    <tr>\n",
       "      <th>5</th>\n",
       "      <td>27492</td>\n",
       "      <td>Rick</td>\n",
       "      <td>0.32</td>\n",
       "      <td>0.8225</td>\n",
       "      <td>98.0</td>\n",
       "      <td>100.0</td>\n",
       "      <td>73.0</td>\n",
       "      <td>82.0</td>\n",
       "      <td>88.0</td>\n",
       "      <td>2020-01-23 13:00</td>\n",
       "    </tr>\n",
       "  </tbody>\n",
       "</table>\n",
       "</div>"
      ],
      "text/plain": [
       "      ID   Name  Attendance      HW  Test1  Project1  Test2  Project2  Final  \\\n",
       "0  27604    Joe        0.96  0.9700   87.0      98.0   92.0      93.0   95.0   \n",
       "1  30572   Alex        1.00  0.8400   92.0      89.0   94.0      92.0   91.0   \n",
       "2  39203  Avery        0.84  0.7400   68.0      70.0   84.0      90.0   82.0   \n",
       "4  28592   Kris        0.96  0.8225   82.0      94.0   90.0      81.0   84.0   \n",
       "5  27492   Rick        0.32  0.8225   98.0     100.0   73.0      82.0   88.0   \n",
       "\n",
       "            datenow  \n",
       "0  2020-01-24 12:00  \n",
       "1  2020-01-10 14:00  \n",
       "2  2020-01-20 14:00  \n",
       "4  2020-01-22 11:00  \n",
       "5  2020-01-23 13:00  "
      ]
     },
     "execution_count": 20,
     "metadata": {},
     "output_type": "execute_result"
    }
   ],
   "source": [
    "df.head(20)"
   ]
  },
  {
   "cell_type": "code",
   "execution_count": 21,
   "id": "removed-architect",
   "metadata": {},
   "outputs": [
    {
     "data": {
      "text/plain": [
       "0    2020-01-24 12:00\n",
       "1    2020-01-10 14:00\n",
       "2    2020-01-20 14:00\n",
       "4    2020-01-22 11:00\n",
       "5    2020-01-23 13:00\n",
       "Name: datenow, dtype: object"
      ]
     },
     "execution_count": 21,
     "metadata": {},
     "output_type": "execute_result"
    }
   ],
   "source": [
    "df.datenow"
   ]
  },
  {
   "cell_type": "code",
   "execution_count": 22,
   "id": "economic-mouse",
   "metadata": {},
   "outputs": [
    {
     "name": "stdout",
     "output_type": "stream",
     "text": [
      "<class 'pandas.core.frame.DataFrame'>\n",
      "Int64Index: 5 entries, 0 to 5\n",
      "Data columns (total 10 columns):\n",
      " #   Column      Non-Null Count  Dtype         \n",
      "---  ------      --------------  -----         \n",
      " 0   ID          5 non-null      int64         \n",
      " 1   Name        5 non-null      object        \n",
      " 2   Attendance  5 non-null      float64       \n",
      " 3   HW          5 non-null      float64       \n",
      " 4   Test1       5 non-null      float64       \n",
      " 5   Project1    5 non-null      float64       \n",
      " 6   Test2       5 non-null      float64       \n",
      " 7   Project2    5 non-null      float64       \n",
      " 8   Final       5 non-null      float64       \n",
      " 9   datenow     5 non-null      datetime64[ns]\n",
      "dtypes: datetime64[ns](1), float64(7), int64(1), object(1)\n",
      "memory usage: 440.0+ bytes\n"
     ]
    }
   ],
   "source": [
    "df.datenow=pd.to_datetime(df.datenow)\n",
    "df.info()"
   ]
  },
  {
   "cell_type": "code",
   "execution_count": 23,
   "id": "functioning-diagnosis",
   "metadata": {},
   "outputs": [],
   "source": [
    "df = pd.read_csv('cancer_data.csv')"
   ]
  },
  {
   "cell_type": "code",
   "execution_count": 24,
   "id": "suffering-virginia",
   "metadata": {},
   "outputs": [
    {
     "name": "stdout",
     "output_type": "stream",
     "text": [
      "<class 'pandas.core.frame.DataFrame'>\n",
      "RangeIndex: 569 entries, 0 to 568\n",
      "Data columns (total 32 columns):\n",
      " #   Column                  Non-Null Count  Dtype  \n",
      "---  ------                  --------------  -----  \n",
      " 0   id                      569 non-null    int64  \n",
      " 1   diagnosis               569 non-null    object \n",
      " 2   radius_mean             569 non-null    float64\n",
      " 3   texture_mean            548 non-null    float64\n",
      " 4   perimeter_mean          569 non-null    float64\n",
      " 5   area_mean               569 non-null    float64\n",
      " 6   smoothness_mean         521 non-null    float64\n",
      " 7   compactness_mean        569 non-null    float64\n",
      " 8   concavity_mean          569 non-null    float64\n",
      " 9   concave_points_mean     569 non-null    float64\n",
      " 10  symmetry_mean           504 non-null    float64\n",
      " 11  fractal_dimension_mean  569 non-null    float64\n",
      " 12  radius_SE               569 non-null    float64\n",
      " 13  texture_SE              548 non-null    float64\n",
      " 14  perimeter_SE            569 non-null    float64\n",
      " 15  area_SE                 569 non-null    float64\n",
      " 16  smoothness_SE           521 non-null    float64\n",
      " 17  compactness_SE          569 non-null    float64\n",
      " 18  concavity_SE            569 non-null    float64\n",
      " 19  concave_points_SE       569 non-null    float64\n",
      " 20  symmetry_SE             504 non-null    float64\n",
      " 21  fractal_dimension_SE    569 non-null    float64\n",
      " 22  radius_max              569 non-null    float64\n",
      " 23  texture_max             548 non-null    float64\n",
      " 24  perimeter_max           569 non-null    float64\n",
      " 25  area_max                569 non-null    float64\n",
      " 26  smoothness_max          521 non-null    float64\n",
      " 27  compactness_max         569 non-null    float64\n",
      " 28  concavity_max           569 non-null    float64\n",
      " 29  concave_points_max      569 non-null    float64\n",
      " 30  symmetry_max            569 non-null    float64\n",
      " 31  fractal_dimension_max   569 non-null    float64\n",
      "dtypes: float64(30), int64(1), object(1)\n",
      "memory usage: 142.4+ KB\n"
     ]
    }
   ],
   "source": [
    "df.symmetry_max.fillna(df.symmetry_max.mean(), inplace=True)\n",
    "df.info()"
   ]
  },
  {
   "cell_type": "code",
   "execution_count": 25,
   "id": "breathing-austin",
   "metadata": {},
   "outputs": [
    {
     "data": {
      "text/plain": [
       "5"
      ]
     },
     "execution_count": 25,
     "metadata": {},
     "output_type": "execute_result"
    }
   ],
   "source": [
    "sum(df.duplicated())"
   ]
  },
  {
   "cell_type": "code",
   "execution_count": 26,
   "id": "opening-control",
   "metadata": {},
   "outputs": [],
   "source": [
    "df.drop_duplicates(inplace=True)"
   ]
  },
  {
   "cell_type": "code",
   "execution_count": 27,
   "id": "guilty-capacity",
   "metadata": {},
   "outputs": [
    {
     "data": {
      "text/plain": [
       "0"
      ]
     },
     "execution_count": 27,
     "metadata": {},
     "output_type": "execute_result"
    }
   ],
   "source": [
    "sum(df.duplicated())"
   ]
  }
 ],
 "metadata": {
  "kernelspec": {
   "display_name": "Python 3",
   "language": "python",
   "name": "python3"
  },
  "language_info": {
   "codemirror_mode": {
    "name": "ipython",
    "version": 3
   },
   "file_extension": ".py",
   "mimetype": "text/x-python",
   "name": "python",
   "nbconvert_exporter": "python",
   "pygments_lexer": "ipython3",
   "version": "3.9.0"
  }
 },
 "nbformat": 4,
 "nbformat_minor": 5
}
